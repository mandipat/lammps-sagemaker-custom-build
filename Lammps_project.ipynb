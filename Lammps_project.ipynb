{
 "cells": [
  {
   "cell_type": "markdown",
   "id": "a731f5ee",
   "metadata": {},
   "source": [
    "# LAMMPS Simulation Workflow\n",
    "\n",
    "This notebook provides a structured workflow for running LAMMPS simulations, archiving results, and uploading to S3.  \n"
   ]
  },
  {
   "cell_type": "code",
   "execution_count": 1,
   "id": "f705d2f5",
   "metadata": {
    "execution": {
     "iopub.execute_input": "2025-06-11T16:28:10.512760Z",
     "iopub.status.busy": "2025-06-11T16:28:10.512455Z",
     "iopub.status.idle": "2025-06-11T16:28:10.655946Z",
     "shell.execute_reply": "2025-06-11T16:28:10.655151Z",
     "shell.execute_reply.started": "2025-06-11T16:28:10.512730Z"
    }
   },
   "outputs": [],
   "source": [
    "# --- Configuration Variables ---\n",
    "\n",
    "import time\n",
    "import subprocess\n",
    "import os\n",
    "import tarfile\n",
    "import boto3\n",
    "\n",
    "# Simulation input/output files\n",
    "INPUT_FILE = \"MD_test.in\"\n",
    "LOG_FILE = \"MD_test.log\"\n",
    "SCREEN_FILE = \"MD_test.err\"\n",
    "\n",
    "# Number of cores for MPI\n",
    "NUM_OF_CORES = 8\n",
    "\n",
    "# S3 upload parameters\n",
    "BUCKET_NAME = \"labdev-sagemaker-studio\"\n",
    "S3_PREFIX = \"lammps_simulation/your_name/\"  # <-- Edit as needed\n",
    "\n",
    "# Name for this simulation run (used for tar file naming)\n",
    "RUN_NAME = \"my_run\"  # <-- Set this to your desired run name\n",
    "\n",
    "# Archive timestamp format\n",
    "TIMESTAMP = time.strftime(\"%Y-%m-%d\")"
   ]
  },
  {
   "cell_type": "markdown",
   "id": "f309f7d1",
   "metadata": {},
   "source": [
    "## (Optional) Change Working Directory\n",
    "\n",
    "If your simulation files are in a different directory, use the cell below to change directories."
   ]
  },
  {
   "cell_type": "code",
   "execution_count": 2,
   "id": "302db538",
   "metadata": {
    "execution": {
     "iopub.execute_input": "2025-06-11T16:28:10.661462Z",
     "iopub.status.busy": "2025-06-11T16:28:10.661225Z",
     "iopub.status.idle": "2025-06-11T16:28:10.666300Z",
     "shell.execute_reply": "2025-06-11T16:28:10.665424Z",
     "shell.execute_reply.started": "2025-06-11T16:28:10.661440Z"
    }
   },
   "outputs": [],
   "source": [
    "# Example: Uncomment and set your path if needed\n",
    "# %cd /path/to/your/lammps/project"
   ]
  },
  {
   "cell_type": "code",
   "execution_count": 10,
   "id": "fa431544-a2a1-4a1a-a45d-44f72ad0286e",
   "metadata": {
    "execution": {
     "iopub.execute_input": "2025-06-11T16:34:50.665070Z",
     "iopub.status.busy": "2025-06-11T16:34:50.664300Z",
     "iopub.status.idle": "2025-06-11T16:34:50.674524Z",
     "shell.execute_reply": "2025-06-11T16:34:50.673577Z",
     "shell.execute_reply.started": "2025-06-11T16:34:50.665031Z"
    }
   },
   "outputs": [
    {
     "name": "stdout",
     "output_type": "stream",
     "text": [
      "Running command:\n",
      " mpirun --oversubscribe -np 8 lmp_gpu -in MD_test.in -log MD_test.log -screen MD_test.err\n",
      "Command failed with return code: 127\n",
      "STDOUT:\n",
      " \n",
      "STDERR:\n",
      " /bin/sh: 1: mpirun: not found\n",
      "\n"
     ]
    }
   ],
   "source": [
    "\n",
    "# Build your LAMMPS or other shell command using the configuration variables above.\n",
    "# Example:\n",
    "\n",
    "cmd = f\"mpirun --oversubscribe -np {NUM_OF_CORES} lmp_gpu -in {INPUT_FILE} -log {LOG_FILE} -screen {SCREEN_FILE}\"  # <-- Edit as needed\n",
    "\n",
    "if cmd:\n",
    "    print(\"Running command:\\n\", cmd)\n",
    "    try:\n",
    "        result = subprocess.run(cmd, shell=True, check=True, capture_output=True, text=True)\n",
    "    except subprocess.CalledProcessError as e:\n",
    "        print(\"Command failed with return code:\", e.returncode)\n",
    "    #print(\"STDOUT:\\n\", result.stdout)\n",
    "    #print(\"STDERR:\\n\", result.stderr)\n",
    "else:\n",
    "    print(\"No command specified. Please set the 'cmd' variable.\")"
   ]
  },
  {
   "cell_type": "markdown",
   "id": "7b081a9b-ec75-4da7-8106-da713c7017e7",
   "metadata": {},
   "source": [
    "## Create `.tar.gz` Archive of Current Directory\n",
    "\n",
    "This will create a `.tar.gz` archive of the **current directory** (including all files and subfolders).\n",
    "\n",
    "**Tips:**\n",
    "- Ensure the notebook is inside the directory you want to archive, or change directory first.\n",
    "- To check your current directory, run the next cell."
   ]
  },
  {
   "cell_type": "code",
   "execution_count": 4,
   "id": "70bf5b63",
   "metadata": {
    "execution": {
     "iopub.execute_input": "2025-06-11T16:28:10.681032Z",
     "iopub.status.busy": "2025-06-11T16:28:10.680710Z",
     "iopub.status.idle": "2025-06-11T16:28:10.686367Z",
     "shell.execute_reply": "2025-06-11T16:28:10.685580Z",
     "shell.execute_reply.started": "2025-06-11T16:28:10.681000Z"
    }
   },
   "outputs": [
    {
     "name": "stdout",
     "output_type": "stream",
     "text": [
      "Current working directory: /mnt/custom-file-systems/efs/fs-061ba43065b82da0d_fsap-0b84c9aed0bbe96d9/MD_test_CPU\n"
     ]
    }
   ],
   "source": [
    "print(\"Current working directory:\", os.getcwd())"
   ]
  },
  {
   "cell_type": "code",
   "execution_count": 5,
   "id": "fe3bf841-8a9a-40bc-9586-a025039d8d14",
   "metadata": {
    "execution": {
     "iopub.execute_input": "2025-06-11T16:28:10.688503Z",
     "iopub.status.busy": "2025-06-11T16:28:10.688121Z",
     "iopub.status.idle": "2025-06-11T16:28:27.684900Z",
     "shell.execute_reply": "2025-06-11T16:28:27.684177Z",
     "shell.execute_reply.started": "2025-06-11T16:28:10.688478Z"
    }
   },
   "outputs": [
    {
     "name": "stdout",
     "output_type": "stream",
     "text": [
      "Created archive: my_run_2025-06-11.tar.gz\n"
     ]
    }
   ],
   "source": [
    "def create_archive():\n",
    "    \"\"\"\n",
    "    Archive the current directory into a tar.gz file.\n",
    "    \"\"\"\n",
    "    current_dir = os.getcwd()\n",
    "    # Use RUN_NAME for the tar file name\n",
    "    tar_filename = f\"{RUN_NAME}_{TIMESTAMP}.tar.gz\"\n",
    "    with tarfile.open(tar_filename, \"w:gz\") as tar:\n",
    "        for root, dirs, files in os.walk(current_dir):\n",
    "            for file in files:\n",
    "                file_path = os.path.join(root, file)\n",
    "                arcname = os.path.relpath(file_path, start=os.path.dirname(current_dir))\n",
    "                tar.add(file_path, arcname=arcname)\n",
    "    print(f\"Created archive: {tar_filename}\")\n",
    "    return tar_filename\n",
    "\n",
    "# Create the archive\n",
    "tar_filename = create_archive()"
   ]
  },
  {
   "cell_type": "markdown",
   "id": "0049f0be-8e8d-4b8f-920a-380ee6f11ae6",
   "metadata": {},
   "source": [
    "## Upload `.tar.gz` to S3 Bucket\n",
    "\n",
    "Uploads the archive to your S3 bucket.  \n",
    "**Edit the `s3_prefix` variable at the top as needed.**"
   ]
  },
  {
   "cell_type": "code",
   "execution_count": 8,
   "id": "7dc7b2b6-881e-4026-813a-517d6b268473",
   "metadata": {
    "execution": {
     "iopub.execute_input": "2025-06-11T16:28:43.102321Z",
     "iopub.status.busy": "2025-06-11T16:28:43.101739Z",
     "iopub.status.idle": "2025-06-11T16:28:43.907268Z",
     "shell.execute_reply": "2025-06-11T16:28:43.906440Z",
     "shell.execute_reply.started": "2025-06-11T16:28:43.102296Z"
    }
   },
   "outputs": [
    {
     "name": "stdout",
     "output_type": "stream",
     "text": [
      "Uploaded my_run_2025-06-11.tar.gz to s3://labdev-sagemaker-studio/lammps_simulation/your_name/my_run_2025-06-11.tar.gz\n"
     ]
    }
   ],
   "source": [
    "def upload_to_s3(tar_filename, bucket_name, s3_prefix):\n",
    "    \"\"\"\n",
    "    Upload the tar.gz file to the specified S3 bucket and prefix.\n",
    "    \"\"\"\n",
    "    if not s3_prefix.endswith(\"/\"):\n",
    "        s3_prefix += \"/\"\n",
    "    s3_key = f\"{s3_prefix}{tar_filename}\"\n",
    "    s3 = boto3.client('s3')\n",
    "    s3.upload_file(tar_filename, bucket_name, s3_key)\n",
    "    print(f\"Uploaded {tar_filename} to s3://{bucket_name}/{s3_key}\")\n",
    "\n",
    "upload_to_s3(tar_filename, BUCKET_NAME, S3_PREFIX)"
   ]
  }
 ],
 "metadata": {
  "kernelspec": {
   "display_name": "Python 3 (ipykernel)",
   "language": "python",
   "name": "python3"
  },
  "language_info": {
   "codemirror_mode": {
    "name": "ipython",
    "version": 3
   },
   "file_extension": ".py",
   "mimetype": "text/x-python",
   "name": "python",
   "nbconvert_exporter": "python",
   "pygments_lexer": "ipython3",
   "version": "3.12.9"
  }
 },
 "nbformat": 4,
 "nbformat_minor": 5
}
